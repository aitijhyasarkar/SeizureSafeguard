{
 "cells": [
  {
   "cell_type": "code",
   "execution_count": 6,
   "metadata": {},
   "outputs": [],
   "source": [
    "metadata = {\n",
    "    \"PN00\": {\n",
    "        \"channels\": [\"Fp1\", \"F3\", \"C3\", \"P3\", \"1\", \"F7\", \"T3\", \"T5\", \"Fc1\", \"Fc5\", \"Cp1\", \"Cp5\", \"F9\", \"Fz\", \"Cz\", \"Pz\", \"Fp2\", \"F4\", \"C4\", \"P4\", \"O2\", \"F8\", \"T4\", \"T6\", \"Fc2\", \"Fc6\", \"Cp2\", \"Cp6\", \"F10\", \"EKG 1\", \"EKG 2\"],\n",
    "        \"seizures\": [\n",
    "            {\"file\": \"PN00-1.edf\", \"start\": \"19:58:36\", \"end\": \"19:59:46\"},\n",
    "            {\"file\": \"PN00-2.edf\", \"start\": \"02:38:37\", \"end\": \"02:39:31\"},\n",
    "            {\"file\": \"PN00-3.edf\", \"start\": \"18:28:29\", \"end\": \"19:29:29\"},\n",
    "            {\"file\": \"PN00-4.edf\", \"start\": \"21:08:29\", \"end\": \"21:09:43\"},\n",
    "            {\"file\": \"PN00-5.edf\", \"start\": \"22:37:08\", \"end\": \"22:28:15\"},\n",
    "        ]\n",
    "    },\n",
    "    \"PN01\": {\n",
    "        \"channels\": [\"Fp1\", \"F3\", \"C3\", \"P3\", \"1\", \"F7\", \"T3\", \"T5\", \"Fc1\", \"Fc5\", \"Cp1\", \"Cp5\", \"F9\", \"Fz\", \"Cz\", \"Pz\", \"Fp2\", \"F4\", \"C4\", \"P4\", \"O2\", \"F8\", \"T4\", \"T6\", \"Fc2\", \"Fc6\", \"Cp2\", \"Cp6\", \"F10\", \"EKG 1\", \"EKG 2\", \"Fp2\"],\n",
    "        \"seizures\": [\n",
    "            {\"file\": \"PN01-1.edf\", \"start\": \"21;51:02\", \"end\": \"21:51:56\"},\n",
    "            {\"file\": \"PN01-1.edf\", \"start\": \"08:53:17\", \"end\": \"07:54:31\"},\n",
    "        ]\n",
    "    },\n",
    "    \"PN03\": {\n",
    "        \"channels\": [\"Fp1\", \"F3\", \"C3\", \"P3\", \"1\", \"F7\", \"T3\", \"T5\", \"Fc1\", \"Fc5\", \"Cp1\", \"Cp5\", \"F9\", \"Fz\", \"Cz\", \"Pz\", \"Fp2\", \"F4\", \"C4\", \"P4\", \"O2\", \"F8\", \"T4\", \"T6\", \"Fc2\", \"Fc6\", \"Cp2\", \"Cp6\", \"F10\", \"EKG 1\", \"EKG 2\"],\n",
    "        \"seizures\": [\n",
    "            {\"file\": \"PN03-1.edf\", \"start\": \"09:29:10\", \"end\": \"09:31:01\"},\n",
    "            {\"file\": \"PN03-2.edf\", \"start\": \"07:13:05\", \"end\": \"07:15:18\"},\n",
    "        ]\n",
    "    },\n",
    "    \"PN05\": {\n",
    "        \"channels\": [\"Fp1\", \"F3\", \"C3\", \"P3\", \"1\", \"F7\", \"T3\", \"T5\", \"Fc1\", \"Fc5\", \"Cp1\", \"Cp5\", \"F9\", \"Fz\", \"Cz\", \"Pz\", \"Fp2\", \"F4\", \"C4\", \"P4\", \"O2\", \"F8\", \"T4\", \"T6\", \"Fc2\", \"Fc6\", \"Cp2\", \"Cp6\", \"F10\", \"EKG 1\", \"EKG 2\", \"Fp2\"],\n",
    "        \"seizures\": [\n",
    "            {\"file\": \"PN05-2.edf\", \"start\": \"08:45:25\", \"end\": \"08:46:00\"},\n",
    "            {\"file\": \"PN05-3.edf\", \"start\": \"07:55:19\", \"end\": \"07:55:49\"},\n",
    "            {\"file\": \"PN05-4.edf\", \"start\": \"07:38:43\", \"end\": \"07:39:22\"},\n",
    "        ]\n",
    "    },\n",
    "    \"PN06\": {\n",
    "        \"channels\": [\"Fp1\", \"F3\", \"C3\", \"P3\", \"1\", \"F7\", \"T3\", \"T5\", \"Fc1\", \"Fc5\", \"Cp1\", \"Cp5\", \"F9\", \"Fz\", \"Cz\", \"Pz\", \"Fp2\", \"F4\", \"C4\", \"P4\", \"O2\", \"F8\", \"T4\", \"T6\", \"Fc2\", \"Fc6\", \"Cp2\", \"Cp6\", \"F10\", \"EKG 1\", \"EKG 2\", \"Fp2\"],\n",
    "        \"seizures\": [\n",
    "            {\"file\": \"PN06-1.edf\", \"start\": \"05:54:25\", \"end\": \"05:55:29\"},\n",
    "            {\"file\": \"PN06-2.edf\", \"start\": \"23:39:09\", \"end\": \"23:40:18\"},\n",
    "            {\"file\": \"PN06-3.edf\", \"start\": \"08:10:26\", \"end\": \"08:11:08\"},\n",
    "            {\"file\": \"PN06-4.edf\", \"start\": \"12:55:08\", \"end\": \"12:56:11\"},\n",
    "            {\"file\": \"PN06-5.edf\", \"start\": \"14:44:24\", \"end\": \"14:45:08\"},\n",
    "        ]\n",
    "    },\n",
    "    \"PN07\": {\n",
    "        \"channels\": [\"Fp1\", \"F3\", \"C3\", \"P3\", \"1\", \"F7\", \"T3\", \"T5\", \"Fc1\", \"Fc5\", \"Cp1\", \"Cp5\", \"F9\", \"Fz\", \"Cz\", \"Pz\", \"Fp2\", \"F4\", \"C4\", \"P4\", \"O2\", \"F8\", \"T4\", \"T6\", \"Fc2\", \"Fc6\", \"Cp2\", \"Cp6\", \"F10\", \"EKG 1\", \"EKG 2\", \"Fp2\"],\n",
    "        \"seizures\": [\n",
    "            {\"file\": \"PN07-1.edf\", \"start\": \"05:25:49\", \"end\": \"05:26:51\"},\n",
    "        ]\n",
    "    },\n",
    "    \"PN09\": {\n",
    "        \"channels\": [\"Fp1\", \"F3\", \"C3\", \"P3\", \"1\", \"F7\", \"T3\", \"T5\", \"Fc1\", \"Fc5\", \"Cp1\", \"Cp5\", \"F9\", \"Fz\", \"Cz\", \"Pz\", \"Fp2\", \"F4\", \"C4\", \"P4\", \"O2\", \"F8\", \"T4\", \"T6\", \"Fc2\", \"Fc6\", \"Cp2\", \"Cp6\", \"F10\", \"EKG 1\", \"EKG 2\", \"Fp2\"],\n",
    "        \"seizures\": [\n",
    "            {\"file\": \"PN09-1.edf\", \"start\": \"16:09:43\", \"end\": \"16:11:03\"},\n",
    "            {\"file\": \"PN09-2.edf\", \"start\": \"17:00:56\", \"end\": \"17:01:55\"},\n",
    "            {\"file\": \"PN09-3.edf\", \"start\": \"16:20:44\", \"end\": \"16:21:48\"},\n",
    "        ]\n",
    "    },\n",
    "    \"PN10\": {\n",
    "        \"channels\": [\"Fp1\", \"F3\", \"C3\", \"P3\", \"1\", \"F7\", \"T3\", \"T5\", \"Fc1\", \"Fc5\", \"Cp1\", \"Cp5\", \"F9\", \"Fz\", \"Cz\", \"Pz\", \"Fp2\", \"F4\", \"C4\", \"P4\", \"O2\", \"F8\", \"T4\", \"T6\", \"Fc2\", \"Fc6\", \"Cp2\", \"Cp6\", \"F10\", \"EKG 1\", \"EKG 2\", \"Fp2\"],\n",
    "        \"seizures\": [\n",
    "            {\"file\": \"PN10-1.edf\", \"start\": \"07:45:50\", \"end\": \"07:46:59\"},\n",
    "            {\"file\": \"PN10-2.edf\", \"start\": \"11:40:13\", \"end\": \"11:41:04\"},\n",
    "            {\"file\": \"PN10-3.edf\", \"start\": \"15:43:53\", \"end\": \"15:45:02\"},\n",
    "            {\"file\": \"PN10-4.edf\", \"start\": \"12:49:50\", \"end\": \"12:49:55\"},\n",
    "            {\"file\": \"PN10-5.edf\", \"start\": \"14:00:25\", \"end\": \"14:00:44\"},\n",
    "            {\"file\": \"PN10-6.edf\", \"start\": \"15:18:26\", \"end\": \"15:19:23\"},\n",
    "            {\"file\": \"PN10-7.edf\", \"start\": \"17:35:13\", \"end\": \"17:36:01\"},\n",
    "            {\"file\": \"PN10-8.edf\", \"start\": \"18:20:24\", \"end\": \"18:20:42\"},\n",
    "            {\"file\": \"PN10-9.edf\", \"start\": \"20:24:48\", \"end\": \"20:25:03\"},\n",
    "            {\"file\": \"PN10-10.edf\", \"start\": \"10:58:19\", \"end\": \"10:58:33\"},\n",
    "        ]\n",
    "    },\n",
    "    \"PN11\": {\n",
    "        \"channels\": [\"Fp1\", \"F3\", \"C3\", \"P3\", \"1\", \"F7\", \"T3\", \"T5\", \"Fc1\", \"Fc5\", \"Cp1\", \"Cp5\", \"F9\", \"Fz\", \"Cz\", \"Pz\", \"F4\", \"C4\", \"P4\", \"O2\", \"F8\", \"T4\", \"T6\", \"Fc2\", \"Fc6\", \"Cp2\", \"Cp6\", \"F10\", \"EKG1\", \"EKG2\", \"Fp2\"],\n",
    "        \"seizures\":[\n",
    "            {\"file\": \"PN11-1.edf\", \"start\": \"13:37:19\", \"end\": \"13:38:14\"},\n",
    "        ]\n",
    "    },\n",
    "    \"PN12\": {\n",
    "        \"channels\": [\"Fp1\", \"F3\", \"C3\", \"P3\", \"1\", \"F7\", \"T3\", \"T5\", \"Fc1\", \"Fc5\", \"Cp1\", \"Cp5\", \"F9\", \"Fz\", \"Cz\", \"Pz\", \"F4\", \"C4\", \"P4\", \"O2\", \"F8\", \"T4\", \"T6\", \"Fc2\", \"Fc6\", \"Cp2\", \"Cp6\", \"F10\", \"EKG1\", \"EKG2\", \"Fp2\"],\n",
    "        \"seizures\":[\n",
    "            {\"file\": \"PN12-1.2.edf\", \"start\": \"16:13:23\", \"end\": \"16:14:26\"},\n",
    "            {\"file\": \"PN12-1.2.edf\", \"start\": \"18:31:01\", \"end\":\"18:32:09\"},\n",
    "            {\"file\": \"PN12-3.edf\", \"start\": \"08:55:27\", \"end\": \"08:57:03\"},\n",
    "            {\"file\": \"PN12-4.edf\", \"start\": \"18:42:51\", \"end\": \"18:43:54\"},\n",
    "        ]\n",
    "    },\n",
    "    \"PN13\": {\n",
    "        \"channels\": [\"Fp1\", \"F3\", \"C3\", \"P3\", \"1\", \"F7\", \"T3\", \"T5\", \"Fc1\", \"Fc5\", \"Cp1\", \"Cp5\", \"F9\", \"Fz\", \"Cz\", \"Pz\", \"F4\", \"C4\", \"P4\", \"O2\", \"F8\", \"T4\", \"T6\", \"Fc2\", \"Fc6\", \"Cp2\", \"Cp6\", \"F10\", \"EKG1\", \"EKG2\", \"Fp2\"],\n",
    "        \"seizures\":[\n",
    "            {\"file\": \"PN13-1.edf\", \"start\": \"10:22:10\", \"end\": \"10:22:58\"},\n",
    "            {\"file\": \"PN13-2.edf\", \"start\": \"08:55:51\", \"end\": \"08:56:56\"},\n",
    "            {\"file\": \"PN13-3.edf\", \"start\": \"14:05:54\", \"end\": \"14:08:25\"},\n",
    "        ]\n",
    "    },\n",
    "    \"PN14\": {\n",
    "        \"channels\": [\"Fp1\", \"F3\", \"C3\", \"P3\", \"1\", \"F7\", \"T5\", \"Fc1\", \"Fc5\", \"Cp1\", \"Cp5\", \"F9\", \"Fz\", \"Pz\", \"F4\", \"C4\", \"P4\", \"O2\", \"F8\", \"T4\", \"T6\", \"Fc2\", \"Fc6\", \"Cp2\", \"Cp6\", \"F10\", \"EKG1\", \"EKG2\", \"Fp2\", \"T3\", \"Cz\"],\n",
    "        \"seizures\":[\n",
    "            {\"file\": \"PN14-1.edf\", \"start\": \"13:46:00\", \"end\": \"13:46:27\"},\n",
    "            {\"file\": \"PN14-2.edf\", \"start\": \"17:54:52\", \"end\": \"17:55:04\"},\n",
    "            {\"file\": \"PN14-3.edf\", \"start\": \"21:10:05\", \"end\": \"21:10:46\"},\n",
    "            {\"file\": \"PN14-4.edf\", \"start\": \"15:49:33\", \"end\": \"15:50:56\"},\n",
    "        ]\n",
    "    },\n",
    "    \"PN16\": {\n",
    "        \"channels\": [\"Fp1\", \"F3\", \"C3\", \"P3\", \"1\", \"F7\", \"T5\", \"Fc1\", \"Fc5\", \"Cp1\", \"Cp5\", \"F9\", \"Fz\", \"Pz\", \"F4\", \"C4\", \"P4\", \"O2\", \"F8\", \"T4\", \"T6\", \"Fc2\", \"Fc6\", \"Cp2\", \"Cp6\", \"F10\", \"EKG1\", \"EKG2\", \"Fp2\", \"T3\", \"Cz\"],\n",
    "        \"seizures\":[\n",
    "            {\"file\": \"PN16-1.edf\", \"start\": \"22:45:05\", \"end\": \"22:47:08\"},\n",
    "            {\"file\": \"PN16-2.edf\", \"start\": \"03:16:49\", \"end\": \"03:18:36\"},\n",
    "        ]\n",
    "    },\n",
    "    \"PN17\": {\n",
    "        \"channels\": [\"Fp1\", \"F3\", \"C3\", \"P3\", \"1\", \"F7\", \"T5\", \"Fc1\", \"Fc5\", \"Cp1\", \"Cp5\", \"F9\", \"Fz\", \"Pz\", \"F4\", \"C4\", \"P4\", \"O2\", \"F8\", \"T4\", \"T6\", \"Fc2\", \"Fc6\", \"Cp2\", \"Cp6\", \"F10\", \"EKG1\", \"EKG2\", \"Fp2\", \"T3\", \"Cz\"],\n",
    "        \"seizures\":[\n",
    "            {\"file\": \"PN17-1.edf\", \"start\": \"22:34:48\", \"end\": \"22:35:58\"},\n",
    "            {\"file\": \"PN17-2.edf\", \"start\": \"16:01:09\", \"end\": \"16:02:32\"},\n",
    "        ]\n",
    "    },\n",
    "}\n"
   ]
  },
  {
   "cell_type": "code",
   "execution_count": 7,
   "metadata": {},
   "outputs": [],
   "source": [
    "import os\n",
    "import mne\n",
    "import pyedflib\n",
    "import numpy as np\n",
    "from sklearn.model_selection import train_test_split\n",
    "from sklearn.ensemble import RandomForestClassifier\n",
    "from sklearn.metrics import accuracy_score\n",
    "import warnings\n",
    "from scipy.signal import welch\n",
    "import pickle\n",
    "\n",
    "warnings.filterwarnings(\"ignore\", category=RuntimeWarning)"
   ]
  },
  {
   "cell_type": "code",
   "execution_count": 8,
   "metadata": {},
   "outputs": [],
   "source": [
    "# Path to the root directory containing subdirectories with EDF files\n",
    "root_dir = 'siena-scalp-eeg-database-1.0.0'"
   ]
  },
  {
   "cell_type": "code",
   "execution_count": 9,
   "metadata": {},
   "outputs": [
    {
     "name": "stdout",
     "output_type": "stream",
     "text": [
      "Found 41 EDF files.\n"
     ]
    }
   ],
   "source": [
    "# Function to load all EDF files from the directory\n",
    "def load_edf_files(root_dir):\n",
    "    edf_files = []\n",
    "    for subdir, _, files in os.walk(root_dir):\n",
    "        for file in files:\n",
    "            if file.endswith('.edf'):\n",
    "                edf_files.append(os.path.join(subdir, file))\n",
    "    return edf_files\n",
    "\n",
    "edf_files = load_edf_files(root_dir)\n",
    "print(f\"Found {len(edf_files)} EDF files.\")\n"
   ]
  },
  {
   "cell_type": "code",
   "execution_count": 10,
   "metadata": {},
   "outputs": [],
   "source": [
    "# Function to extract channel names from an EDF file\n",
    "def get_channel_names(edf_file):\n",
    "    f = pyedflib.EdfReader(edf_file)\n",
    "    channel_names = f.getSignalLabels()\n",
    "    f.close()\n",
    "    return channel_names\n"
   ]
  },
  {
   "cell_type": "code",
   "execution_count": 11,
   "metadata": {},
   "outputs": [
    {
     "name": "stdout",
     "output_type": "stream",
     "text": [
      "Updated channels for PN00-1.edf in PN00\n",
      "Updated channels for PN00-2.edf in PN00\n",
      "Updated channels for PN00-3.edf in PN00\n",
      "Updated channels for PN00-4.edf in PN00\n",
      "Updated channels for PN00-5.edf in PN00\n",
      "Updated channels for PN01-1.edf in PN01\n",
      "Updated channels for PN03-1.edf in PN03\n",
      "Updated channels for PN03-2.edf in PN03\n",
      "Updated channels for PN05-2.edf in PN05\n",
      "Updated channels for PN05-3.edf in PN05\n",
      "Updated channels for PN05-4.edf in PN05\n",
      "Updated channels for PN06-1.edf in PN06\n",
      "Updated channels for PN06-2.edf in PN06\n",
      "Updated channels for PN06-3.edf in PN06\n",
      "Updated channels for PN06-4.edf in PN06\n",
      "Updated channels for PN06-5.edf in PN06\n",
      "Updated channels for PN07-1.edf in PN07\n",
      "Updated channels for PN09-1.edf in PN09\n",
      "Updated channels for PN09-2.edf in PN09\n",
      "Updated channels for PN09-3.edf in PN09\n",
      "Updated channels for PN10-1.edf in PN10\n",
      "Updated channels for PN10-10.edf in PN10\n",
      "Updated channels for PN10-2.edf in PN10\n",
      "Updated channels for PN10-3.edf in PN10\n",
      "Updated channels for PN11-1.edf in PN11\n",
      "Updated channels for PN12-1.2.edf in PN12\n",
      "Updated channels for PN12-3.edf in PN12\n",
      "Updated channels for PN12-4.edf in PN12\n",
      "Updated channels for PN13-1.edf in PN13\n",
      "Updated channels for PN13-2.edf in PN13\n",
      "Updated channels for PN13-3.edf in PN13\n",
      "Updated channels for PN14-1.edf in PN14\n",
      "Updated channels for PN14-2.edf in PN14\n",
      "Updated channels for PN14-3.edf in PN14\n",
      "Updated channels for PN14-4.edf in PN14\n",
      "Updated channels for PN16-1.edf in PN16\n",
      "Updated channels for PN16-2.edf in PN16\n",
      "Updated channels for PN17-1.edf in PN17\n",
      "Updated channels for PN17-2.edf in PN17\n"
     ]
    }
   ],
   "source": [
    "# Function to update the metadata with actual channel names from the EDF files\n",
    "def update_metadata_with_channels(metadata, edf_files):\n",
    "    for edf_file in edf_files:\n",
    "        actual_channel_names = get_channel_names(edf_file)\n",
    "        file_name = os.path.basename(edf_file)\n",
    "        \n",
    "        # Find the corresponding metadata entry\n",
    "        for key, value in metadata.items():\n",
    "            if 'seizures' in value:\n",
    "                for seizure in value['seizures']:\n",
    "                    if seizure['file'] == file_name:\n",
    "                        # Update channels\n",
    "                        metadata[key]['channels'] = actual_channel_names\n",
    "                        print(f\"Updated channels for {file_name} in {key}\")\n",
    "                        break\n",
    "\n",
    "update_metadata_with_channels(metadata, edf_files)"
   ]
  },
  {
   "cell_type": "code",
   "execution_count": 12,
   "metadata": {},
   "outputs": [
    {
     "name": "stdout",
     "output_type": "stream",
     "text": [
      "{'PN00': {'channels': ['EEG Fp1', 'EEG F3', 'EEG C3', 'EEG P3', 'EEG O1', 'EEG F7', 'EEG T3', 'EEG T5', 'EEG Fc1', 'EEG Fc5', 'EEG Cp1', 'EEG Cp5', 'EEG F9', 'EEG Fz', 'EEG Cz', 'EEG Pz', 'EEG Fp2', 'EEG F4', 'EEG C4', 'EEG P4', 'EEG O2', 'EEG F8', 'EEG T4', 'EEG T6', 'EEG Fc2', 'EEG Fc6', 'EEG Cp2', 'EEG Cp6', 'EEG F10', 'EKG EKG', 'SPO2', 'HR', '1', '2', 'MK'], 'seizures': [{'file': 'PN00-1.edf', 'start': '19:58:36', 'end': '19:59:46'}, {'file': 'PN00-2.edf', 'start': '02:38:37', 'end': '02:39:31'}, {'file': 'PN00-3.edf', 'start': '18:28:29', 'end': '19:29:29'}, {'file': 'PN00-4.edf', 'start': '21:08:29', 'end': '21:09:43'}, {'file': 'PN00-5.edf', 'start': '22:37:08', 'end': '22:28:15'}]}, 'PN01': {'channels': ['EEG Fp1', 'EEG F3', 'EEG C3', 'EEG P3', 'EEG O1', 'EEG F7', 'EEG T3', 'EEG T5', 'EEG Fc1', 'EEG Fc5', 'EEG Cp1', 'EEG Cp5', 'EEG F9', 'EEG Fz', 'EEG Cz', 'EEG Pz', 'EEG Fp2', 'EEG F4', 'EEG C4', 'EEG P4', 'EEG O2', 'EEG F8', 'EEG T4', 'EEG T6', 'EEG Fc2', 'EEG Fc6', 'EEG Cp2', 'EEG Cp6', 'EEG F10', 'EKG EKG', 'SPO2', 'HR', '1', '2', 'MK'], 'seizures': [{'file': 'PN01-1.edf', 'start': '21;51:02', 'end': '21:51:56'}, {'file': 'PN01-1.edf', 'start': '08:53:17', 'end': '07:54:31'}]}, 'PN03': {'channels': ['EEG Fp1', 'EEG F3', 'EEG C3', 'EEG P3', 'EEG O1', 'EEG F7', 'EEG T3', 'EEG T5', 'EEG Fc1', 'EEG Fc5', 'EEG Cp1', 'EEG Cp5', 'EEG F9', 'EEG Fz', 'EEG Cz', 'EEG Pz', 'EEG F4', 'EEG C4', 'EEG P4', 'EEG O2', 'EEG F8', 'EEG T4', 'EEG T6', 'EEG Fc2', 'EEG Fc6', 'EEG Cp2', 'EEG Cp6', 'EEG F10', 'EKG EKG', 'SPO2', 'HR', '1', '2', 'EEG FP2', 'MK'], 'seizures': [{'file': 'PN03-1.edf', 'start': '09:29:10', 'end': '09:31:01'}, {'file': 'PN03-2.edf', 'start': '07:13:05', 'end': '07:15:18'}]}, 'PN05': {'channels': ['EEG Fp1', 'EEG F3', 'EEG C3', 'EEG P3', 'EEG O1', 'EEG F7', 'EEG T3', 'EEG T5', 'EEG Fc1', 'EEG Fc5', 'EEG Cp1', 'EEG Cp5', 'EEG F9', 'EEG Fz', 'EEG Cz', 'EEG Pz', 'EEG F4', 'EEG C4', 'EEG P4', 'EEG O2', 'EEG F8', 'EEG T4', 'EEG T6', 'EEG Fc2', 'EEG Fc6', 'EEG Cp2', 'EEG Cp6', 'EEG F10', 'EKG EKG', 'SPO2', 'HR', '1', '2', 'EEG FP2', 'EEG P9', 'EEG P10', 'MK'], 'seizures': [{'file': 'PN05-2.edf', 'start': '08:45:25', 'end': '08:46:00'}, {'file': 'PN05-3.edf', 'start': '07:55:19', 'end': '07:55:49'}, {'file': 'PN05-4.edf', 'start': '07:38:43', 'end': '07:39:22'}]}, 'PN06': {'channels': ['EEG Fp1', 'EEG F3', 'EEG C3', 'EEG P3', 'EEG O1', 'EEG F7', 'EEG T3', 'EEG T5', 'EEG Fc1', 'EEG Fc5', 'EEG Cp1', 'EEG Cp5', 'EEG F9', 'EEG Fz', 'EEG Cz', 'EEG Pz', 'EEG F4', 'EEG C4', 'EEG P4', 'EEG O2', 'EEG F8', 'EEG T4', 'EEG T6', 'EEG Fc2', 'EEG Fc6', 'EEG Cp2', 'EEG Cp6', 'EEG F10', 'EKG EKG', 'SPO2', 'HR', '1', '2', 'EEG FP2', 'EEG P9', 'EEG P10', 'MK'], 'seizures': [{'file': 'PN06-1.edf', 'start': '05:54:25', 'end': '05:55:29'}, {'file': 'PN06-2.edf', 'start': '23:39:09', 'end': '23:40:18'}, {'file': 'PN06-3.edf', 'start': '08:10:26', 'end': '08:11:08'}, {'file': 'PN06-4.edf', 'start': '12:55:08', 'end': '12:56:11'}, {'file': 'PN06-5.edf', 'start': '14:44:24', 'end': '14:45:08'}]}, 'PN07': {'channels': ['EEG Fp1', 'EEG F3', 'EEG C3', 'EEG P3', 'EEG O1', 'EEG F7', 'EEG T3', 'EEG T5', 'EEG Fc1', 'EEG Fc5', 'EEG Cp1', 'EEG Cp5', 'EEG F9', 'EEG Fz', 'EEG Cz', 'EEG Pz', 'EEG F4', 'EEG C4', 'EEG P4', 'EEG O2', 'EEG F8', 'EEG T4', 'EEG T6', 'EEG Fc2', 'EEG Fc6', 'EEG Cp2', 'EEG Cp6', 'EEG F10', 'EKG EKG', 'SPO2', 'HR', '1', '2', 'EEG FP2', 'EEG P9', 'EEG P10', 'B', 'C', 'D', 'PLET', '61', '62', '63', '64', 'MK'], 'seizures': [{'file': 'PN07-1.edf', 'start': '05:25:49', 'end': '05:26:51'}]}, 'PN09': {'channels': ['EEG Fp1', 'EEG F3', 'EEG C3', 'EEG P3', 'EEG O1', 'EEG F7', 'EEG T3', 'EEG T5', 'EEG Fc1', 'EEG Fc5', 'EEG Cp1', 'EEG Cp5', 'EEG F9', 'EEG Fz', 'EEG Cz', 'EEG Pz', 'EEG F4', 'EEG C4', 'EEG P4', 'EEG O2', 'EEG F8', 'EEG T4', 'EEG T6', 'EEG Fc2', 'EEG Fc6', 'EEG Cp2', 'EEG Cp6', 'EEG F10', 'EKG EKG', 'SPO2', 'HR', '1', '2', 'EEG FP2', 'EEG P9', 'EEG P10', 'B', 'C', 'D', 'PLET', '61', '62', '63', '64', 'MK'], 'seizures': [{'file': 'PN09-1.edf', 'start': '16:09:43', 'end': '16:11:03'}, {'file': 'PN09-2.edf', 'start': '17:00:56', 'end': '17:01:55'}, {'file': 'PN09-3.edf', 'start': '16:20:44', 'end': '16:21:48'}]}, 'PN10': {'channels': ['EEG Fp1', 'EEG F3', 'EEG C3', 'EEG P3', 'EEG O1', 'EEG F7', 'EEG T3', 'EEG T5', 'EEG Fc1', 'EEG Fc5', 'EEG Cp1', 'EEG Cp5', 'EEG F9', 'EEG Fz', 'EEG Cz', 'EEG Pz', 'EEG F4', 'EEG C4', 'EEG P4', 'EEG O2', 'EEG F8', 'EEG T4', 'EEG T6', 'EEG Fc2', 'EEG Fc6', 'EEG Cp2', 'EEG Cp6', 'EEG F10', 'EKG EKG', 'SPO2', 'HR', '1', '2', 'EEG FP2', 'EEG P9', 'EEG P10', 'B', 'C', 'D', 'PLET', '61', '62', '63', '64', 'MK'], 'seizures': [{'file': 'PN10-1.edf', 'start': '07:45:50', 'end': '07:46:59'}, {'file': 'PN10-2.edf', 'start': '11:40:13', 'end': '11:41:04'}, {'file': 'PN10-3.edf', 'start': '15:43:53', 'end': '15:45:02'}, {'file': 'PN10-4.edf', 'start': '12:49:50', 'end': '12:49:55'}, {'file': 'PN10-5.edf', 'start': '14:00:25', 'end': '14:00:44'}, {'file': 'PN10-6.edf', 'start': '15:18:26', 'end': '15:19:23'}, {'file': 'PN10-7.edf', 'start': '17:35:13', 'end': '17:36:01'}, {'file': 'PN10-8.edf', 'start': '18:20:24', 'end': '18:20:42'}, {'file': 'PN10-9.edf', 'start': '20:24:48', 'end': '20:25:03'}, {'file': 'PN10-10.edf', 'start': '10:58:19', 'end': '10:58:33'}]}, 'PN11': {'channels': ['EEG Fp1', 'EEG F3', 'EEG C3', 'EEG P3', 'EEG O1', 'EEG F7', 'EEG T3', 'EEG T5', 'EEG Fc1', 'EEG Fc5', 'EEG Cp1', 'EEG Cp5', 'EEG F9', 'EEG Fz', 'EEG Cz', 'EEG Pz', 'EEG F4', 'EEG C4', 'EEG P4', 'EEG O2', 'EEG F8', 'EEG T4', 'EEG T6', 'EEG Fc2', 'EEG Fc6', 'EEG Cp2', 'EEG Cp6', 'EEG F10', 'EKG EKG', 'SPO2', 'HR', '1', '2', 'EEG FP2', 'EEG P9', 'EEG P10', 'B', 'C', 'D', 'PLET', '61', '62', '63', '64', 'MK'], 'seizures': [{'file': 'PN11-1.edf', 'start': '13:37:19', 'end': '13:38:14'}]}, 'PN12': {'channels': ['EEG Fp1', 'EEG F3', 'EEG C3', 'EEG P3', 'EEG O1', 'EEG F7', 'EEG T3', 'EEG T5', 'EEG Fc1', 'EEG Fc5', 'EEG Cp1', 'EEG Cp5', 'EEG F9', 'EEG Fz', 'EEG Cz', 'EEG Pz', 'EEG F4', 'EEG C4', 'EEG P4', 'EEG O2', 'EEG F8', 'EEG T4', 'EEG T6', 'EEG Fc2', 'EEG Fc6', 'EEG Cp2', 'EEG Cp6', 'EEG F10', 'EKG EKG', 'SPO2', 'HR', '1', '2', 'EEG FP2', 'EEG P9', 'EEG P10', 'B', 'C', 'D', 'PLET', '61', '62', '63', '64', 'MK'], 'seizures': [{'file': 'PN12-1.2.edf', 'start': '16:13:23', 'end': '16:14:26'}, {'file': 'PN12-1.2.edf', 'start': '18:31:01', 'end': '18:32:09'}, {'file': 'PN12-3.edf', 'start': '08:55:27', 'end': '08:57:03'}, {'file': 'PN12-4.edf', 'start': '18:42:51', 'end': '18:43:54'}]}, 'PN13': {'channels': ['EEG Fp1', 'EEG F3', 'EEG C3', 'EEG P3', 'EEG O1', 'EEG F7', 'EEG T3', 'EEG T5', 'EEG Fc1', 'EEG Fc5', 'EEG Cp1', 'EEG Cp5', 'EEG F9', 'EEG Fz', 'EEG Cz', 'EEG Pz', 'EEG F4', 'EEG C4', 'EEG P4', 'EEG O2', 'EEG F8', 'EEG T4', 'EEG T6', 'EEG Fc2', 'EEG Fc6', 'EEG Cp2', 'EEG Cp6', 'EEG F10', 'EKG EKG', 'SPO2', 'HR', '1', '2', 'EEG FP2', 'EEG P9', 'EEG P10', 'B', 'C', 'D', 'PLET', '61', '62', '63', '64', 'MK'], 'seizures': [{'file': 'PN13-1.edf', 'start': '10:22:10', 'end': '10:22:58'}, {'file': 'PN13-2.edf', 'start': '08:55:51', 'end': '08:56:56'}, {'file': 'PN13-3.edf', 'start': '14:05:54', 'end': '14:08:25'}]}, 'PN14': {'channels': ['EEG Fp1', 'EEG F3', 'EEG C3', 'EEG P3', 'EEG O1', 'EEG F7', 'EEG T5', 'EEG Fc1', 'EEG Fc5', 'EEG Cp1', 'EEG Cp5', 'EEG F9', 'EEG Fz', 'EEG Pz', 'EEG F4', 'EEG C4', 'EEG P4', 'EEG O2', 'EEG F8', 'EEG T4', 'EEG T6', 'EEG Fc2', 'EEG Fc6', 'EEG Cp2', 'EEG Cp6', 'EEG F10', 'SPO2', 'HR', '1', '2', 'EEG FP2', 'EEG P9', 'EEG P10', 'PLET', '61', '62', '63', '64', 'EEG T3', 'EEG CZ', '3', '23', '33', '31', 'A', 'B', 'C', 'D', 'MK'], 'seizures': [{'file': 'PN14-1.edf', 'start': '13:46:00', 'end': '13:46:27'}, {'file': 'PN14-2.edf', 'start': '17:54:52', 'end': '17:55:04'}, {'file': 'PN14-3.edf', 'start': '21:10:05', 'end': '21:10:46'}, {'file': 'PN14-4.edf', 'start': '15:49:33', 'end': '15:50:56'}]}, 'PN16': {'channels': ['EEG Fp1', 'EEG F3', 'EEG C3', 'EEG P3', 'EEG O1', 'EEG F7', 'EEG T5', 'EEG Fc1', 'EEG Fc5', 'EEG Cp1', 'EEG Cp5', 'EEG F9', 'EEG Fz', 'EEG Pz', 'EEG F4', 'EEG C4', 'EEG P4', 'EEG O2', 'EEG F8', 'EEG T4', 'EEG T6', 'EEG Fc2', 'EEG Fc6', 'EEG Cp2', 'EEG Cp6', 'EEG F10', 'SPO2', 'HR', '1', '2', 'EEG FP2', 'EEG P9', 'EEG P10', 'PLET', '61', '62', '63', '64', 'EEG T3', 'EEG CZ', '3', '23', '33', '31', 'A', 'B', 'C', 'D', 'MK'], 'seizures': [{'file': 'PN16-1.edf', 'start': '22:45:05', 'end': '22:47:08'}, {'file': 'PN16-2.edf', 'start': '03:16:49', 'end': '03:18:36'}]}, 'PN17': {'channels': ['EEG Fp1', 'EEG F3', 'EEG C3', 'EEG P3', 'EEG O1', 'EEG F7', 'EEG T5', 'EEG Fc1', 'EEG Fc5', 'EEG Cp1', 'EEG Cp5', 'EEG F9', 'EEG Fz', 'EEG Pz', 'EEG F4', 'EEG C4', 'EEG P4', 'EEG O2', 'EEG F8', 'EEG T4', 'EEG T6', 'EEG Fc2', 'EEG Fc6', 'EEG Cp2', 'EEG Cp6', 'EEG F10', 'SPO2', 'HR', '1', '2', 'EEG FP2', 'EEG P9', 'EEG P10', 'PLET', '61', '62', '63', '64', 'EEG T3', 'EEG CZ', '3', '23', '33', '31', 'A', 'B', 'C', 'D', 'MK'], 'seizures': [{'file': 'PN17-1.edf', 'start': '22:34:48', 'end': '22:35:58'}, {'file': 'PN17-2.edf', 'start': '16:01:09', 'end': '16:02:32'}]}}\n"
     ]
    }
   ],
   "source": [
    "print(metadata)\n"
   ]
  },
  {
   "cell_type": "code",
   "execution_count": 13,
   "metadata": {},
   "outputs": [],
   "source": [
    "# Function to extract features from an EDF file\n",
    "def extract_features_from_edf(file_path, channels):\n",
    "    raw = mne.io.read_raw_edf(file_path, preload=True, verbose=False)\n",
    "    \n",
    "    # Ensure the specified channels are in the data\n",
    "    available_channels = [ch for ch in channels if ch in raw.ch_names]\n",
    "    raw.pick_channels(available_channels)\n",
    "    \n",
    "    # Filter the data\n",
    "    raw.filter(l_freq=None, h_freq=40)\n",
    "    \n",
    "    data = raw.get_data()\n",
    "    \n",
    "    # Use Welch's method to compute the power spectral density\n",
    "    freqs, psd = welch(data, fs=raw.info['sfreq'], nperseg=256)\n",
    "    \n",
    "    # Average the PSD across channels\n",
    "    avg_psd = np.mean(psd, axis=0)\n",
    "    \n",
    "    return avg_psd"
   ]
  },
  {
   "cell_type": "code",
   "execution_count": 14,
   "metadata": {},
   "outputs": [],
   "source": [
    "\n",
    "# Function to create a dataset from the EDF files and metadata\n",
    "def create_dataset(edf_files, metadata):\n",
    "    X = []\n",
    "    y = []\n",
    "    \n",
    "    for patient, info in metadata.items():\n",
    "        for seizure in info[\"seizures\"]:\n",
    "            file_path = os.path.join(root_dir, patient, seizure[\"file\"])\n",
    "            if file_path in edf_files:\n",
    "                try:\n",
    "                    features = extract_features_from_edf(file_path, info[\"channels\"])\n",
    "                    X.append(features)\n",
    "                    y.append(1)  # Seizure event\n",
    "                except Exception as e:\n",
    "                    print(f\"Error processing seizure file {file_path}: {e}\")\n",
    "    \n",
    "    # Non-seizure samples: Just pick some random files (excluding those in metadata)\n",
    "    non_seizure_files = set(edf_files) - {os.path.join(root_dir, patient, seizure[\"file\"]) for patient in metadata for seizure in metadata[patient][\"seizures\"]}\n",
    "    for file_path in list(non_seizure_files)[:len(X)]:\n",
    "        try:\n",
    "            features = extract_features_from_edf(file_path, info[\"channels\"])\n",
    "            X.append(features)\n",
    "            y.append(0)  # Non-seizure event\n",
    "        except Exception as e:\n",
    "            print(f\"Error processing non-seizure file {file_path}: {e}\")\n",
    "    \n",
    "    return np.array(X), np.array(y)\n"
   ]
  },
  {
   "cell_type": "code",
   "execution_count": 15,
   "metadata": {},
   "outputs": [
    {
     "name": "stdout",
     "output_type": "stream",
     "text": [
      "NOTE: pick_channels() is a legacy function. New code should use inst.pick(...).\n",
      "Filtering raw data in 1 contiguous segment\n",
      "Setting up low-pass filter at 40 Hz\n",
      "\n",
      "FIR filter parameters\n",
      "---------------------\n",
      "Designing a one-pass, zero-phase, non-causal lowpass filter:\n",
      "- Windowed time-domain design (firwin) method\n",
      "- Hamming window with 0.0194 passband ripple and 53 dB stopband attenuation\n",
      "- Upper passband edge: 40.00 Hz\n",
      "- Upper transition bandwidth: 10.00 Hz (-6 dB cutoff frequency: 45.00 Hz)\n",
      "- Filter length: 169 samples (0.330 s)\n",
      "\n"
     ]
    },
    {
     "name": "stderr",
     "output_type": "stream",
     "text": [
      "[Parallel(n_jobs=1)]: Done  17 tasks      | elapsed:    0.3s\n"
     ]
    },
    {
     "name": "stdout",
     "output_type": "stream",
     "text": [
      "NOTE: pick_channels() is a legacy function. New code should use inst.pick(...).\n",
      "Filtering raw data in 1 contiguous segment\n",
      "Setting up low-pass filter at 40 Hz\n",
      "\n",
      "FIR filter parameters\n",
      "---------------------\n",
      "Designing a one-pass, zero-phase, non-causal lowpass filter:\n",
      "- Windowed time-domain design (firwin) method\n",
      "- Hamming window with 0.0194 passband ripple and 53 dB stopband attenuation\n",
      "- Upper passband edge: 40.00 Hz\n",
      "- Upper transition bandwidth: 10.00 Hz (-6 dB cutoff frequency: 45.00 Hz)\n",
      "- Filter length: 169 samples (0.330 s)\n",
      "\n"
     ]
    },
    {
     "name": "stderr",
     "output_type": "stream",
     "text": [
      "[Parallel(n_jobs=1)]: Done  17 tasks      | elapsed:    0.3s\n"
     ]
    },
    {
     "name": "stdout",
     "output_type": "stream",
     "text": [
      "NOTE: pick_channels() is a legacy function. New code should use inst.pick(...).\n",
      "Filtering raw data in 1 contiguous segment\n",
      "Setting up low-pass filter at 40 Hz\n",
      "\n",
      "FIR filter parameters\n",
      "---------------------\n",
      "Designing a one-pass, zero-phase, non-causal lowpass filter:\n",
      "- Windowed time-domain design (firwin) method\n",
      "- Hamming window with 0.0194 passband ripple and 53 dB stopband attenuation\n",
      "- Upper passband edge: 40.00 Hz\n",
      "- Upper transition bandwidth: 10.00 Hz (-6 dB cutoff frequency: 45.00 Hz)\n",
      "- Filter length: 169 samples (0.330 s)\n",
      "\n"
     ]
    },
    {
     "name": "stderr",
     "output_type": "stream",
     "text": [
      "[Parallel(n_jobs=1)]: Done  17 tasks      | elapsed:    0.3s\n"
     ]
    },
    {
     "name": "stdout",
     "output_type": "stream",
     "text": [
      "NOTE: pick_channels() is a legacy function. New code should use inst.pick(...).\n",
      "Filtering raw data in 1 contiguous segment\n",
      "Setting up low-pass filter at 40 Hz\n",
      "\n",
      "FIR filter parameters\n",
      "---------------------\n",
      "Designing a one-pass, zero-phase, non-causal lowpass filter:\n",
      "- Windowed time-domain design (firwin) method\n",
      "- Hamming window with 0.0194 passband ripple and 53 dB stopband attenuation\n",
      "- Upper passband edge: 40.00 Hz\n",
      "- Upper transition bandwidth: 10.00 Hz (-6 dB cutoff frequency: 45.00 Hz)\n",
      "- Filter length: 169 samples (0.330 s)\n",
      "\n"
     ]
    },
    {
     "name": "stderr",
     "output_type": "stream",
     "text": [
      "[Parallel(n_jobs=1)]: Done  17 tasks      | elapsed:    0.2s\n"
     ]
    },
    {
     "name": "stdout",
     "output_type": "stream",
     "text": [
      "NOTE: pick_channels() is a legacy function. New code should use inst.pick(...).\n",
      "Filtering raw data in 1 contiguous segment\n",
      "Setting up low-pass filter at 40 Hz\n",
      "\n",
      "FIR filter parameters\n",
      "---------------------\n",
      "Designing a one-pass, zero-phase, non-causal lowpass filter:\n",
      "- Windowed time-domain design (firwin) method\n",
      "- Hamming window with 0.0194 passband ripple and 53 dB stopband attenuation\n",
      "- Upper passband edge: 40.00 Hz\n",
      "- Upper transition bandwidth: 10.00 Hz (-6 dB cutoff frequency: 45.00 Hz)\n",
      "- Filter length: 169 samples (0.330 s)\n",
      "\n"
     ]
    },
    {
     "name": "stderr",
     "output_type": "stream",
     "text": [
      "[Parallel(n_jobs=1)]: Done  17 tasks      | elapsed:    0.2s\n"
     ]
    },
    {
     "name": "stdout",
     "output_type": "stream",
     "text": [
      "NOTE: pick_channels() is a legacy function. New code should use inst.pick(...).\n",
      "Filtering raw data in 1 contiguous segment\n",
      "Setting up low-pass filter at 40 Hz\n",
      "\n",
      "FIR filter parameters\n",
      "---------------------\n",
      "Designing a one-pass, zero-phase, non-causal lowpass filter:\n",
      "- Windowed time-domain design (firwin) method\n",
      "- Hamming window with 0.0194 passband ripple and 53 dB stopband attenuation\n",
      "- Upper passband edge: 40.00 Hz\n",
      "- Upper transition bandwidth: 10.00 Hz (-6 dB cutoff frequency: 45.00 Hz)\n",
      "- Filter length: 169 samples (0.330 s)\n",
      "\n"
     ]
    },
    {
     "name": "stderr",
     "output_type": "stream",
     "text": [
      "[Parallel(n_jobs=1)]: Done  17 tasks      | elapsed:    9.3s\n"
     ]
    },
    {
     "name": "stdout",
     "output_type": "stream",
     "text": [
      "Error processing seizure file siena-scalp-eeg-database-1.0.0\\PN01\\PN01-1.edf: Unable to allocate 13.1 GiB for an array with shape (35, 194227, 129) and data type complex128\n",
      "NOTE: pick_channels() is a legacy function. New code should use inst.pick(...).\n",
      "Filtering raw data in 1 contiguous segment\n",
      "Setting up low-pass filter at 40 Hz\n",
      "\n",
      "FIR filter parameters\n",
      "---------------------\n",
      "Designing a one-pass, zero-phase, non-causal lowpass filter:\n",
      "- Windowed time-domain design (firwin) method\n",
      "- Hamming window with 0.0194 passband ripple and 53 dB stopband attenuation\n",
      "- Upper passband edge: 40.00 Hz\n",
      "- Upper transition bandwidth: 10.00 Hz (-6 dB cutoff frequency: 45.00 Hz)\n",
      "- Filter length: 169 samples (0.330 s)\n",
      "\n"
     ]
    },
    {
     "name": "stderr",
     "output_type": "stream",
     "text": [
      "[Parallel(n_jobs=1)]: Done  17 tasks      | elapsed:   10.6s\n"
     ]
    },
    {
     "name": "stdout",
     "output_type": "stream",
     "text": [
      "Error processing seizure file siena-scalp-eeg-database-1.0.0\\PN01\\PN01-1.edf: Unable to allocate 13.1 GiB for an array with shape (35, 194227, 129) and data type complex128\n",
      "NOTE: pick_channels() is a legacy function. New code should use inst.pick(...).\n",
      "Filtering raw data in 1 contiguous segment\n",
      "Setting up low-pass filter at 40 Hz\n",
      "\n",
      "FIR filter parameters\n",
      "---------------------\n",
      "Designing a one-pass, zero-phase, non-causal lowpass filter:\n",
      "- Windowed time-domain design (firwin) method\n",
      "- Hamming window with 0.0194 passband ripple and 53 dB stopband attenuation\n",
      "- Upper passband edge: 40.00 Hz\n",
      "- Upper transition bandwidth: 10.00 Hz (-6 dB cutoff frequency: 45.00 Hz)\n",
      "- Filter length: 169 samples (0.330 s)\n",
      "\n"
     ]
    },
    {
     "name": "stderr",
     "output_type": "stream",
     "text": [
      "[Parallel(n_jobs=1)]: Done  17 tasks      | elapsed:    8.1s\n"
     ]
    },
    {
     "name": "stdout",
     "output_type": "stream",
     "text": [
      "Error processing seizure file siena-scalp-eeg-database-1.0.0\\PN03\\PN03-1.edf: Unable to allocate 12.6 GiB for an array with shape (35, 186547, 129) and data type complex128\n",
      "NOTE: pick_channels() is a legacy function. New code should use inst.pick(...).\n",
      "Filtering raw data in 1 contiguous segment\n",
      "Setting up low-pass filter at 40 Hz\n",
      "\n",
      "FIR filter parameters\n",
      "---------------------\n",
      "Designing a one-pass, zero-phase, non-causal lowpass filter:\n",
      "- Windowed time-domain design (firwin) method\n",
      "- Hamming window with 0.0194 passband ripple and 53 dB stopband attenuation\n",
      "- Upper passband edge: 40.00 Hz\n",
      "- Upper transition bandwidth: 10.00 Hz (-6 dB cutoff frequency: 45.00 Hz)\n",
      "- Filter length: 169 samples (0.330 s)\n",
      "\n"
     ]
    },
    {
     "name": "stderr",
     "output_type": "stream",
     "text": [
      "[Parallel(n_jobs=1)]: Done  17 tasks      | elapsed:    6.5s\n"
     ]
    },
    {
     "name": "stdout",
     "output_type": "stream",
     "text": [
      "NOTE: pick_channels() is a legacy function. New code should use inst.pick(...).\n",
      "Filtering raw data in 1 contiguous segment\n",
      "Setting up low-pass filter at 40 Hz\n",
      "\n",
      "FIR filter parameters\n",
      "---------------------\n",
      "Designing a one-pass, zero-phase, non-causal lowpass filter:\n",
      "- Windowed time-domain design (firwin) method\n",
      "- Hamming window with 0.0194 passband ripple and 53 dB stopband attenuation\n",
      "- Upper passband edge: 40.00 Hz\n",
      "- Upper transition bandwidth: 10.00 Hz (-6 dB cutoff frequency: 45.00 Hz)\n",
      "- Filter length: 169 samples (0.330 s)\n",
      "\n"
     ]
    },
    {
     "name": "stderr",
     "output_type": "stream",
     "text": [
      "[Parallel(n_jobs=1)]: Done  17 tasks      | elapsed:    1.3s\n"
     ]
    },
    {
     "name": "stdout",
     "output_type": "stream",
     "text": [
      "NOTE: pick_channels() is a legacy function. New code should use inst.pick(...).\n",
      "Filtering raw data in 1 contiguous segment\n",
      "Setting up low-pass filter at 40 Hz\n",
      "\n",
      "FIR filter parameters\n",
      "---------------------\n",
      "Designing a one-pass, zero-phase, non-causal lowpass filter:\n",
      "- Windowed time-domain design (firwin) method\n",
      "- Hamming window with 0.0194 passband ripple and 53 dB stopband attenuation\n",
      "- Upper passband edge: 40.00 Hz\n",
      "- Upper transition bandwidth: 10.00 Hz (-6 dB cutoff frequency: 45.00 Hz)\n",
      "- Filter length: 169 samples (0.330 s)\n",
      "\n"
     ]
    },
    {
     "name": "stderr",
     "output_type": "stream",
     "text": [
      "[Parallel(n_jobs=1)]: Done  17 tasks      | elapsed:    1.1s\n"
     ]
    },
    {
     "name": "stdout",
     "output_type": "stream",
     "text": [
      "NOTE: pick_channels() is a legacy function. New code should use inst.pick(...).\n",
      "Filtering raw data in 1 contiguous segment\n",
      "Setting up low-pass filter at 40 Hz\n",
      "\n",
      "FIR filter parameters\n",
      "---------------------\n",
      "Designing a one-pass, zero-phase, non-causal lowpass filter:\n",
      "- Windowed time-domain design (firwin) method\n",
      "- Hamming window with 0.0194 passband ripple and 53 dB stopband attenuation\n",
      "- Upper passband edge: 40.00 Hz\n",
      "- Upper transition bandwidth: 10.00 Hz (-6 dB cutoff frequency: 45.00 Hz)\n",
      "- Filter length: 169 samples (0.330 s)\n",
      "\n"
     ]
    },
    {
     "name": "stderr",
     "output_type": "stream",
     "text": [
      "[Parallel(n_jobs=1)]: Done  17 tasks      | elapsed:    0.7s\n"
     ]
    },
    {
     "name": "stdout",
     "output_type": "stream",
     "text": [
      "NOTE: pick_channels() is a legacy function. New code should use inst.pick(...).\n",
      "Filtering raw data in 1 contiguous segment\n",
      "Setting up low-pass filter at 40 Hz\n",
      "\n",
      "FIR filter parameters\n",
      "---------------------\n",
      "Designing a one-pass, zero-phase, non-causal lowpass filter:\n",
      "- Windowed time-domain design (firwin) method\n",
      "- Hamming window with 0.0194 passband ripple and 53 dB stopband attenuation\n",
      "- Upper passband edge: 40.00 Hz\n",
      "- Upper transition bandwidth: 10.00 Hz (-6 dB cutoff frequency: 45.00 Hz)\n",
      "- Filter length: 169 samples (0.330 s)\n",
      "\n"
     ]
    },
    {
     "name": "stderr",
     "output_type": "stream",
     "text": [
      "[Parallel(n_jobs=1)]: Done  17 tasks      | elapsed:    1.4s\n"
     ]
    },
    {
     "name": "stdout",
     "output_type": "stream",
     "text": [
      "NOTE: pick_channels() is a legacy function. New code should use inst.pick(...).\n",
      "Filtering raw data in 1 contiguous segment\n",
      "Setting up low-pass filter at 40 Hz\n",
      "\n",
      "FIR filter parameters\n",
      "---------------------\n",
      "Designing a one-pass, zero-phase, non-causal lowpass filter:\n",
      "- Windowed time-domain design (firwin) method\n",
      "- Hamming window with 0.0194 passband ripple and 53 dB stopband attenuation\n",
      "- Upper passband edge: 40.00 Hz\n",
      "- Upper transition bandwidth: 10.00 Hz (-6 dB cutoff frequency: 45.00 Hz)\n",
      "- Filter length: 169 samples (0.330 s)\n",
      "\n"
     ]
    },
    {
     "name": "stderr",
     "output_type": "stream",
     "text": [
      "[Parallel(n_jobs=1)]: Done  17 tasks      | elapsed:    1.9s\n"
     ]
    },
    {
     "name": "stdout",
     "output_type": "stream",
     "text": [
      "NOTE: pick_channels() is a legacy function. New code should use inst.pick(...).\n",
      "Filtering raw data in 1 contiguous segment\n",
      "Setting up low-pass filter at 40 Hz\n",
      "\n",
      "FIR filter parameters\n",
      "---------------------\n",
      "Designing a one-pass, zero-phase, non-causal lowpass filter:\n",
      "- Windowed time-domain design (firwin) method\n",
      "- Hamming window with 0.0194 passband ripple and 53 dB stopband attenuation\n",
      "- Upper passband edge: 40.00 Hz\n",
      "- Upper transition bandwidth: 10.00 Hz (-6 dB cutoff frequency: 45.00 Hz)\n",
      "- Filter length: 169 samples (0.330 s)\n",
      "\n"
     ]
    },
    {
     "name": "stderr",
     "output_type": "stream",
     "text": [
      "[Parallel(n_jobs=1)]: Done  17 tasks      | elapsed:    1.2s\n"
     ]
    },
    {
     "name": "stdout",
     "output_type": "stream",
     "text": [
      "NOTE: pick_channels() is a legacy function. New code should use inst.pick(...).\n",
      "Filtering raw data in 1 contiguous segment\n",
      "Setting up low-pass filter at 40 Hz\n",
      "\n",
      "FIR filter parameters\n",
      "---------------------\n",
      "Designing a one-pass, zero-phase, non-causal lowpass filter:\n",
      "- Windowed time-domain design (firwin) method\n",
      "- Hamming window with 0.0194 passband ripple and 53 dB stopband attenuation\n",
      "- Upper passband edge: 40.00 Hz\n",
      "- Upper transition bandwidth: 10.00 Hz (-6 dB cutoff frequency: 45.00 Hz)\n",
      "- Filter length: 169 samples (0.330 s)\n",
      "\n"
     ]
    },
    {
     "name": "stderr",
     "output_type": "stream",
     "text": [
      "[Parallel(n_jobs=1)]: Done  17 tasks      | elapsed:    1.0s\n"
     ]
    },
    {
     "name": "stdout",
     "output_type": "stream",
     "text": [
      "NOTE: pick_channels() is a legacy function. New code should use inst.pick(...).\n",
      "Filtering raw data in 1 contiguous segment\n",
      "Setting up low-pass filter at 40 Hz\n",
      "\n",
      "FIR filter parameters\n",
      "---------------------\n",
      "Designing a one-pass, zero-phase, non-causal lowpass filter:\n",
      "- Windowed time-domain design (firwin) method\n",
      "- Hamming window with 0.0194 passband ripple and 53 dB stopband attenuation\n",
      "- Upper passband edge: 40.00 Hz\n",
      "- Upper transition bandwidth: 10.00 Hz (-6 dB cutoff frequency: 45.00 Hz)\n",
      "- Filter length: 169 samples (0.330 s)\n",
      "\n"
     ]
    },
    {
     "name": "stderr",
     "output_type": "stream",
     "text": [
      "[Parallel(n_jobs=1)]: Done  17 tasks      | elapsed:    0.8s\n"
     ]
    },
    {
     "name": "stdout",
     "output_type": "stream",
     "text": [
      "NOTE: pick_channels() is a legacy function. New code should use inst.pick(...).\n",
      "Filtering raw data in 1 contiguous segment\n",
      "Setting up low-pass filter at 40 Hz\n",
      "\n",
      "FIR filter parameters\n",
      "---------------------\n",
      "Designing a one-pass, zero-phase, non-causal lowpass filter:\n",
      "- Windowed time-domain design (firwin) method\n",
      "- Hamming window with 0.0194 passband ripple and 53 dB stopband attenuation\n",
      "- Upper passband edge: 40.00 Hz\n",
      "- Upper transition bandwidth: 10.00 Hz (-6 dB cutoff frequency: 45.00 Hz)\n",
      "- Filter length: 169 samples (0.330 s)\n",
      "\n"
     ]
    },
    {
     "name": "stderr",
     "output_type": "stream",
     "text": [
      "[Parallel(n_jobs=1)]: Done  17 tasks      | elapsed:    4.8s\n"
     ]
    },
    {
     "name": "stdout",
     "output_type": "stream",
     "text": [
      "NOTE: pick_channels() is a legacy function. New code should use inst.pick(...).\n",
      "Filtering raw data in 1 contiguous segment\n",
      "Setting up low-pass filter at 40 Hz\n",
      "\n",
      "FIR filter parameters\n",
      "---------------------\n",
      "Designing a one-pass, zero-phase, non-causal lowpass filter:\n",
      "- Windowed time-domain design (firwin) method\n",
      "- Hamming window with 0.0194 passband ripple and 53 dB stopband attenuation\n",
      "- Upper passband edge: 40.00 Hz\n",
      "- Upper transition bandwidth: 10.00 Hz (-6 dB cutoff frequency: 45.00 Hz)\n",
      "- Filter length: 169 samples (0.330 s)\n",
      "\n"
     ]
    },
    {
     "name": "stderr",
     "output_type": "stream",
     "text": [
      "[Parallel(n_jobs=1)]: Done  17 tasks      | elapsed:    1.1s\n"
     ]
    },
    {
     "name": "stdout",
     "output_type": "stream",
     "text": [
      "NOTE: pick_channels() is a legacy function. New code should use inst.pick(...).\n",
      "Filtering raw data in 1 contiguous segment\n",
      "Setting up low-pass filter at 40 Hz\n",
      "\n",
      "FIR filter parameters\n",
      "---------------------\n",
      "Designing a one-pass, zero-phase, non-causal lowpass filter:\n",
      "- Windowed time-domain design (firwin) method\n",
      "- Hamming window with 0.0194 passband ripple and 53 dB stopband attenuation\n",
      "- Upper passband edge: 40.00 Hz\n",
      "- Upper transition bandwidth: 10.00 Hz (-6 dB cutoff frequency: 45.00 Hz)\n",
      "- Filter length: 169 samples (0.330 s)\n",
      "\n"
     ]
    },
    {
     "name": "stderr",
     "output_type": "stream",
     "text": [
      "[Parallel(n_jobs=1)]: Done  17 tasks      | elapsed:    1.2s\n"
     ]
    },
    {
     "name": "stdout",
     "output_type": "stream",
     "text": [
      "NOTE: pick_channels() is a legacy function. New code should use inst.pick(...).\n",
      "Filtering raw data in 1 contiguous segment\n",
      "Setting up low-pass filter at 40 Hz\n",
      "\n",
      "FIR filter parameters\n",
      "---------------------\n",
      "Designing a one-pass, zero-phase, non-causal lowpass filter:\n",
      "- Windowed time-domain design (firwin) method\n",
      "- Hamming window with 0.0194 passband ripple and 53 dB stopband attenuation\n",
      "- Upper passband edge: 40.00 Hz\n",
      "- Upper transition bandwidth: 10.00 Hz (-6 dB cutoff frequency: 45.00 Hz)\n",
      "- Filter length: 169 samples (0.330 s)\n",
      "\n"
     ]
    },
    {
     "name": "stderr",
     "output_type": "stream",
     "text": [
      "[Parallel(n_jobs=1)]: Done  17 tasks      | elapsed:    1.1s\n"
     ]
    },
    {
     "name": "stdout",
     "output_type": "stream",
     "text": [
      "NOTE: pick_channels() is a legacy function. New code should use inst.pick(...).\n",
      "Filtering raw data in 1 contiguous segment\n",
      "Setting up low-pass filter at 40 Hz\n",
      "\n",
      "FIR filter parameters\n",
      "---------------------\n",
      "Designing a one-pass, zero-phase, non-causal lowpass filter:\n",
      "- Windowed time-domain design (firwin) method\n",
      "- Hamming window with 0.0194 passband ripple and 53 dB stopband attenuation\n",
      "- Upper passband edge: 40.00 Hz\n",
      "- Upper transition bandwidth: 10.00 Hz (-6 dB cutoff frequency: 45.00 Hz)\n",
      "- Filter length: 169 samples (0.330 s)\n",
      "\n"
     ]
    },
    {
     "name": "stderr",
     "output_type": "stream",
     "text": [
      "[Parallel(n_jobs=1)]: Done  17 tasks      | elapsed:    1.4s\n"
     ]
    },
    {
     "name": "stdout",
     "output_type": "stream",
     "text": [
      "NOTE: pick_channels() is a legacy function. New code should use inst.pick(...).\n",
      "Filtering raw data in 1 contiguous segment\n",
      "Setting up low-pass filter at 40 Hz\n",
      "\n",
      "FIR filter parameters\n",
      "---------------------\n",
      "Designing a one-pass, zero-phase, non-causal lowpass filter:\n",
      "- Windowed time-domain design (firwin) method\n",
      "- Hamming window with 0.0194 passband ripple and 53 dB stopband attenuation\n",
      "- Upper passband edge: 40.00 Hz\n",
      "- Upper transition bandwidth: 10.00 Hz (-6 dB cutoff frequency: 45.00 Hz)\n",
      "- Filter length: 169 samples (0.330 s)\n",
      "\n"
     ]
    },
    {
     "name": "stderr",
     "output_type": "stream",
     "text": [
      "[Parallel(n_jobs=1)]: Done  17 tasks      | elapsed:    1.2s\n"
     ]
    },
    {
     "name": "stdout",
     "output_type": "stream",
     "text": [
      "NOTE: pick_channels() is a legacy function. New code should use inst.pick(...).\n",
      "Filtering raw data in 1 contiguous segment\n",
      "Setting up low-pass filter at 40 Hz\n",
      "\n",
      "FIR filter parameters\n",
      "---------------------\n",
      "Designing a one-pass, zero-phase, non-causal lowpass filter:\n",
      "- Windowed time-domain design (firwin) method\n",
      "- Hamming window with 0.0194 passband ripple and 53 dB stopband attenuation\n",
      "- Upper passband edge: 40.00 Hz\n",
      "- Upper transition bandwidth: 10.00 Hz (-6 dB cutoff frequency: 45.00 Hz)\n",
      "- Filter length: 169 samples (0.330 s)\n",
      "\n"
     ]
    },
    {
     "name": "stderr",
     "output_type": "stream",
     "text": [
      "[Parallel(n_jobs=1)]: Done  17 tasks      | elapsed:    1.2s\n"
     ]
    },
    {
     "name": "stdout",
     "output_type": "stream",
     "text": [
      "NOTE: pick_channels() is a legacy function. New code should use inst.pick(...).\n",
      "Filtering raw data in 1 contiguous segment\n",
      "Setting up low-pass filter at 40 Hz\n",
      "\n",
      "FIR filter parameters\n",
      "---------------------\n",
      "Designing a one-pass, zero-phase, non-causal lowpass filter:\n",
      "- Windowed time-domain design (firwin) method\n",
      "- Hamming window with 0.0194 passband ripple and 53 dB stopband attenuation\n",
      "- Upper passband edge: 40.00 Hz\n",
      "- Upper transition bandwidth: 10.00 Hz (-6 dB cutoff frequency: 45.00 Hz)\n",
      "- Filter length: 169 samples (0.330 s)\n",
      "\n"
     ]
    },
    {
     "name": "stderr",
     "output_type": "stream",
     "text": [
      "[Parallel(n_jobs=1)]: Done  17 tasks      | elapsed:    1.2s\n"
     ]
    },
    {
     "name": "stdout",
     "output_type": "stream",
     "text": [
      "NOTE: pick_channels() is a legacy function. New code should use inst.pick(...).\n",
      "Filtering raw data in 1 contiguous segment\n",
      "Setting up low-pass filter at 40 Hz\n",
      "\n",
      "FIR filter parameters\n",
      "---------------------\n",
      "Designing a one-pass, zero-phase, non-causal lowpass filter:\n",
      "- Windowed time-domain design (firwin) method\n",
      "- Hamming window with 0.0194 passband ripple and 53 dB stopband attenuation\n",
      "- Upper passband edge: 40.00 Hz\n",
      "- Upper transition bandwidth: 10.00 Hz (-6 dB cutoff frequency: 45.00 Hz)\n",
      "- Filter length: 169 samples (0.330 s)\n",
      "\n"
     ]
    },
    {
     "name": "stderr",
     "output_type": "stream",
     "text": [
      "[Parallel(n_jobs=1)]: Done  17 tasks      | elapsed:    1.2s\n"
     ]
    },
    {
     "name": "stdout",
     "output_type": "stream",
     "text": [
      "NOTE: pick_channels() is a legacy function. New code should use inst.pick(...).\n",
      "Filtering raw data in 1 contiguous segment\n",
      "Setting up low-pass filter at 40 Hz\n",
      "\n",
      "FIR filter parameters\n",
      "---------------------\n",
      "Designing a one-pass, zero-phase, non-causal lowpass filter:\n",
      "- Windowed time-domain design (firwin) method\n",
      "- Hamming window with 0.0194 passband ripple and 53 dB stopband attenuation\n",
      "- Upper passband edge: 40.00 Hz\n",
      "- Upper transition bandwidth: 10.00 Hz (-6 dB cutoff frequency: 45.00 Hz)\n",
      "- Filter length: 169 samples (0.330 s)\n",
      "\n"
     ]
    },
    {
     "name": "stderr",
     "output_type": "stream",
     "text": [
      "[Parallel(n_jobs=1)]: Done  17 tasks      | elapsed:    1.4s\n"
     ]
    },
    {
     "name": "stdout",
     "output_type": "stream",
     "text": [
      "NOTE: pick_channels() is a legacy function. New code should use inst.pick(...).\n",
      "Filtering raw data in 1 contiguous segment\n",
      "Setting up low-pass filter at 40 Hz\n",
      "\n",
      "FIR filter parameters\n",
      "---------------------\n",
      "Designing a one-pass, zero-phase, non-causal lowpass filter:\n",
      "- Windowed time-domain design (firwin) method\n",
      "- Hamming window with 0.0194 passband ripple and 53 dB stopband attenuation\n",
      "- Upper passband edge: 40.00 Hz\n",
      "- Upper transition bandwidth: 10.00 Hz (-6 dB cutoff frequency: 45.00 Hz)\n",
      "- Filter length: 169 samples (0.330 s)\n",
      "\n"
     ]
    },
    {
     "name": "stderr",
     "output_type": "stream",
     "text": [
      "[Parallel(n_jobs=1)]: Done  17 tasks      | elapsed:    1.4s\n"
     ]
    },
    {
     "name": "stdout",
     "output_type": "stream",
     "text": [
      "NOTE: pick_channels() is a legacy function. New code should use inst.pick(...).\n",
      "Filtering raw data in 1 contiguous segment\n",
      "Setting up low-pass filter at 40 Hz\n",
      "\n",
      "FIR filter parameters\n",
      "---------------------\n",
      "Designing a one-pass, zero-phase, non-causal lowpass filter:\n",
      "- Windowed time-domain design (firwin) method\n",
      "- Hamming window with 0.0194 passband ripple and 53 dB stopband attenuation\n",
      "- Upper passband edge: 40.00 Hz\n",
      "- Upper transition bandwidth: 10.00 Hz (-6 dB cutoff frequency: 45.00 Hz)\n",
      "- Filter length: 169 samples (0.330 s)\n",
      "\n"
     ]
    },
    {
     "name": "stderr",
     "output_type": "stream",
     "text": [
      "[Parallel(n_jobs=1)]: Done  17 tasks      | elapsed:    0.2s\n"
     ]
    },
    {
     "name": "stdout",
     "output_type": "stream",
     "text": [
      "NOTE: pick_channels() is a legacy function. New code should use inst.pick(...).\n",
      "Filtering raw data in 1 contiguous segment\n",
      "Setting up low-pass filter at 40 Hz\n",
      "\n",
      "FIR filter parameters\n",
      "---------------------\n",
      "Designing a one-pass, zero-phase, non-causal lowpass filter:\n",
      "- Windowed time-domain design (firwin) method\n",
      "- Hamming window with 0.0194 passband ripple and 53 dB stopband attenuation\n",
      "- Upper passband edge: 40.00 Hz\n",
      "- Upper transition bandwidth: 10.00 Hz (-6 dB cutoff frequency: 45.00 Hz)\n",
      "- Filter length: 169 samples (0.330 s)\n",
      "\n"
     ]
    },
    {
     "name": "stderr",
     "output_type": "stream",
     "text": [
      "[Parallel(n_jobs=1)]: Done  17 tasks      | elapsed:    1.4s\n"
     ]
    },
    {
     "name": "stdout",
     "output_type": "stream",
     "text": [
      "NOTE: pick_channels() is a legacy function. New code should use inst.pick(...).\n",
      "Filtering raw data in 1 contiguous segment\n",
      "Setting up low-pass filter at 40 Hz\n",
      "\n",
      "FIR filter parameters\n",
      "---------------------\n",
      "Designing a one-pass, zero-phase, non-causal lowpass filter:\n",
      "- Windowed time-domain design (firwin) method\n",
      "- Hamming window with 0.0194 passband ripple and 53 dB stopband attenuation\n",
      "- Upper passband edge: 40.00 Hz\n",
      "- Upper transition bandwidth: 10.00 Hz (-6 dB cutoff frequency: 45.00 Hz)\n",
      "- Filter length: 169 samples (0.330 s)\n",
      "\n"
     ]
    },
    {
     "name": "stderr",
     "output_type": "stream",
     "text": [
      "[Parallel(n_jobs=1)]: Done  17 tasks      | elapsed:    1.3s\n"
     ]
    },
    {
     "name": "stdout",
     "output_type": "stream",
     "text": [
      "NOTE: pick_channels() is a legacy function. New code should use inst.pick(...).\n",
      "Filtering raw data in 1 contiguous segment\n",
      "Setting up low-pass filter at 40 Hz\n",
      "\n",
      "FIR filter parameters\n",
      "---------------------\n",
      "Designing a one-pass, zero-phase, non-causal lowpass filter:\n",
      "- Windowed time-domain design (firwin) method\n",
      "- Hamming window with 0.0194 passband ripple and 53 dB stopband attenuation\n",
      "- Upper passband edge: 40.00 Hz\n",
      "- Upper transition bandwidth: 10.00 Hz (-6 dB cutoff frequency: 45.00 Hz)\n",
      "- Filter length: 169 samples (0.330 s)\n",
      "\n"
     ]
    },
    {
     "name": "stderr",
     "output_type": "stream",
     "text": [
      "[Parallel(n_jobs=1)]: Done  17 tasks      | elapsed:    1.3s\n"
     ]
    },
    {
     "name": "stdout",
     "output_type": "stream",
     "text": [
      "NOTE: pick_channels() is a legacy function. New code should use inst.pick(...).\n",
      "Filtering raw data in 1 contiguous segment\n",
      "Setting up low-pass filter at 40 Hz\n",
      "\n",
      "FIR filter parameters\n",
      "---------------------\n",
      "Designing a one-pass, zero-phase, non-causal lowpass filter:\n",
      "- Windowed time-domain design (firwin) method\n",
      "- Hamming window with 0.0194 passband ripple and 53 dB stopband attenuation\n",
      "- Upper passband edge: 40.00 Hz\n",
      "- Upper transition bandwidth: 10.00 Hz (-6 dB cutoff frequency: 45.00 Hz)\n",
      "- Filter length: 169 samples (0.330 s)\n",
      "\n"
     ]
    },
    {
     "name": "stderr",
     "output_type": "stream",
     "text": [
      "[Parallel(n_jobs=1)]: Done  17 tasks      | elapsed:    1.9s\n"
     ]
    },
    {
     "name": "stdout",
     "output_type": "stream",
     "text": [
      "NOTE: pick_channels() is a legacy function. New code should use inst.pick(...).\n",
      "Filtering raw data in 1 contiguous segment\n",
      "Setting up low-pass filter at 40 Hz\n",
      "\n",
      "FIR filter parameters\n",
      "---------------------\n",
      "Designing a one-pass, zero-phase, non-causal lowpass filter:\n",
      "- Windowed time-domain design (firwin) method\n",
      "- Hamming window with 0.0194 passband ripple and 53 dB stopband attenuation\n",
      "- Upper passband edge: 40.00 Hz\n",
      "- Upper transition bandwidth: 10.00 Hz (-6 dB cutoff frequency: 45.00 Hz)\n",
      "- Filter length: 169 samples (0.330 s)\n",
      "\n"
     ]
    },
    {
     "name": "stderr",
     "output_type": "stream",
     "text": [
      "[Parallel(n_jobs=1)]: Done  17 tasks      | elapsed:    1.1s\n"
     ]
    },
    {
     "name": "stdout",
     "output_type": "stream",
     "text": [
      "NOTE: pick_channels() is a legacy function. New code should use inst.pick(...).\n",
      "Filtering raw data in 1 contiguous segment\n",
      "Setting up low-pass filter at 40 Hz\n",
      "\n",
      "FIR filter parameters\n",
      "---------------------\n",
      "Designing a one-pass, zero-phase, non-causal lowpass filter:\n",
      "- Windowed time-domain design (firwin) method\n",
      "- Hamming window with 0.0194 passband ripple and 53 dB stopband attenuation\n",
      "- Upper passband edge: 40.00 Hz\n",
      "- Upper transition bandwidth: 10.00 Hz (-6 dB cutoff frequency: 45.00 Hz)\n",
      "- Filter length: 169 samples (0.330 s)\n",
      "\n"
     ]
    },
    {
     "name": "stderr",
     "output_type": "stream",
     "text": [
      "[Parallel(n_jobs=1)]: Done  17 tasks      | elapsed:    1.3s\n"
     ]
    },
    {
     "name": "stdout",
     "output_type": "stream",
     "text": [
      "NOTE: pick_channels() is a legacy function. New code should use inst.pick(...).\n",
      "Filtering raw data in 1 contiguous segment\n",
      "Setting up low-pass filter at 40 Hz\n",
      "\n",
      "FIR filter parameters\n",
      "---------------------\n",
      "Designing a one-pass, zero-phase, non-causal lowpass filter:\n",
      "- Windowed time-domain design (firwin) method\n",
      "- Hamming window with 0.0194 passband ripple and 53 dB stopband attenuation\n",
      "- Upper passband edge: 40.00 Hz\n",
      "- Upper transition bandwidth: 10.00 Hz (-6 dB cutoff frequency: 45.00 Hz)\n",
      "- Filter length: 169 samples (0.330 s)\n",
      "\n"
     ]
    },
    {
     "name": "stderr",
     "output_type": "stream",
     "text": [
      "[Parallel(n_jobs=1)]: Done  17 tasks      | elapsed:   10.5s\n"
     ]
    },
    {
     "name": "stdout",
     "output_type": "stream",
     "text": [
      "Error processing seizure file siena-scalp-eeg-database-1.0.0\\PN14\\PN14-3.edf: Unable to allocate 15.7 GiB for an array with shape (49, 167979, 256) and data type float64\n",
      "NOTE: pick_channels() is a legacy function. New code should use inst.pick(...).\n",
      "Filtering raw data in 1 contiguous segment\n",
      "Setting up low-pass filter at 40 Hz\n",
      "\n",
      "FIR filter parameters\n",
      "---------------------\n",
      "Designing a one-pass, zero-phase, non-causal lowpass filter:\n",
      "- Windowed time-domain design (firwin) method\n",
      "- Hamming window with 0.0194 passband ripple and 53 dB stopband attenuation\n",
      "- Upper passband edge: 40.00 Hz\n",
      "- Upper transition bandwidth: 10.00 Hz (-6 dB cutoff frequency: 45.00 Hz)\n",
      "- Filter length: 169 samples (0.330 s)\n",
      "\n"
     ]
    },
    {
     "name": "stderr",
     "output_type": "stream",
     "text": [
      "[Parallel(n_jobs=1)]: Done  17 tasks      | elapsed:    2.3s\n"
     ]
    },
    {
     "name": "stdout",
     "output_type": "stream",
     "text": [
      "NOTE: pick_channels() is a legacy function. New code should use inst.pick(...).\n",
      "Filtering raw data in 1 contiguous segment\n",
      "Setting up low-pass filter at 40 Hz\n",
      "\n",
      "FIR filter parameters\n",
      "---------------------\n",
      "Designing a one-pass, zero-phase, non-causal lowpass filter:\n",
      "- Windowed time-domain design (firwin) method\n",
      "- Hamming window with 0.0194 passband ripple and 53 dB stopband attenuation\n",
      "- Upper passband edge: 40.00 Hz\n",
      "- Upper transition bandwidth: 10.00 Hz (-6 dB cutoff frequency: 45.00 Hz)\n",
      "- Filter length: 169 samples (0.330 s)\n",
      "\n"
     ]
    },
    {
     "name": "stderr",
     "output_type": "stream",
     "text": [
      "[Parallel(n_jobs=1)]: Done  17 tasks      | elapsed:    1.1s\n"
     ]
    },
    {
     "name": "stdout",
     "output_type": "stream",
     "text": [
      "NOTE: pick_channels() is a legacy function. New code should use inst.pick(...).\n",
      "Filtering raw data in 1 contiguous segment\n",
      "Setting up low-pass filter at 40 Hz\n",
      "\n",
      "FIR filter parameters\n",
      "---------------------\n",
      "Designing a one-pass, zero-phase, non-causal lowpass filter:\n",
      "- Windowed time-domain design (firwin) method\n",
      "- Hamming window with 0.0194 passband ripple and 53 dB stopband attenuation\n",
      "- Upper passband edge: 40.00 Hz\n",
      "- Upper transition bandwidth: 10.00 Hz (-6 dB cutoff frequency: 45.00 Hz)\n",
      "- Filter length: 169 samples (0.330 s)\n",
      "\n"
     ]
    },
    {
     "name": "stderr",
     "output_type": "stream",
     "text": [
      "[Parallel(n_jobs=1)]: Done  17 tasks      | elapsed:    1.3s\n"
     ]
    },
    {
     "name": "stdout",
     "output_type": "stream",
     "text": [
      "NOTE: pick_channels() is a legacy function. New code should use inst.pick(...).\n",
      "Filtering raw data in 1 contiguous segment\n",
      "Setting up low-pass filter at 40 Hz\n",
      "\n",
      "FIR filter parameters\n",
      "---------------------\n",
      "Designing a one-pass, zero-phase, non-causal lowpass filter:\n",
      "- Windowed time-domain design (firwin) method\n",
      "- Hamming window with 0.0194 passband ripple and 53 dB stopband attenuation\n",
      "- Upper passband edge: 40.00 Hz\n",
      "- Upper transition bandwidth: 10.00 Hz (-6 dB cutoff frequency: 45.00 Hz)\n",
      "- Filter length: 169 samples (0.330 s)\n",
      "\n"
     ]
    },
    {
     "name": "stderr",
     "output_type": "stream",
     "text": [
      "[Parallel(n_jobs=1)]: Done  17 tasks      | elapsed:    1.3s\n"
     ]
    },
    {
     "name": "stdout",
     "output_type": "stream",
     "text": [
      "NOTE: pick_channels() is a legacy function. New code should use inst.pick(...).\n",
      "Filtering raw data in 1 contiguous segment\n",
      "Setting up low-pass filter at 40 Hz\n",
      "\n",
      "FIR filter parameters\n",
      "---------------------\n",
      "Designing a one-pass, zero-phase, non-causal lowpass filter:\n",
      "- Windowed time-domain design (firwin) method\n",
      "- Hamming window with 0.0194 passband ripple and 53 dB stopband attenuation\n",
      "- Upper passband edge: 40.00 Hz\n",
      "- Upper transition bandwidth: 10.00 Hz (-6 dB cutoff frequency: 45.00 Hz)\n",
      "- Filter length: 169 samples (0.330 s)\n",
      "\n"
     ]
    },
    {
     "name": "stderr",
     "output_type": "stream",
     "text": [
      "[Parallel(n_jobs=1)]: Done  17 tasks      | elapsed:    1.3s\n"
     ]
    },
    {
     "name": "stdout",
     "output_type": "stream",
     "text": [
      "NOTE: pick_channels() is a legacy function. New code should use inst.pick(...).\n",
      "Filtering raw data in 1 contiguous segment\n",
      "Setting up low-pass filter at 40 Hz\n",
      "\n",
      "FIR filter parameters\n",
      "---------------------\n",
      "Designing a one-pass, zero-phase, non-causal lowpass filter:\n",
      "- Windowed time-domain design (firwin) method\n",
      "- Hamming window with 0.0194 passband ripple and 53 dB stopband attenuation\n",
      "- Upper passband edge: 40.00 Hz\n",
      "- Upper transition bandwidth: 10.00 Hz (-6 dB cutoff frequency: 45.00 Hz)\n",
      "- Filter length: 169 samples (0.330 s)\n",
      "\n"
     ]
    },
    {
     "name": "stderr",
     "output_type": "stream",
     "text": [
      "[Parallel(n_jobs=1)]: Done  17 tasks      | elapsed:    2.5s\n"
     ]
    },
    {
     "name": "stdout",
     "output_type": "stream",
     "text": [
      "NOTE: pick_channels() is a legacy function. New code should use inst.pick(...).\n",
      "Filtering raw data in 1 contiguous segment\n",
      "Setting up low-pass filter at 40 Hz\n",
      "\n",
      "FIR filter parameters\n",
      "---------------------\n",
      "Designing a one-pass, zero-phase, non-causal lowpass filter:\n",
      "- Windowed time-domain design (firwin) method\n",
      "- Hamming window with 0.0194 passband ripple and 53 dB stopband attenuation\n",
      "- Upper passband edge: 40.00 Hz\n",
      "- Upper transition bandwidth: 10.00 Hz (-6 dB cutoff frequency: 45.00 Hz)\n",
      "- Filter length: 169 samples (0.330 s)\n",
      "\n"
     ]
    },
    {
     "name": "stderr",
     "output_type": "stream",
     "text": [
      "[Parallel(n_jobs=1)]: Done  17 tasks      | elapsed:    2.3s\n"
     ]
    }
   ],
   "source": [
    "\n",
    "# Create the dataset\n",
    "X, y = create_dataset(edf_files, metadata)"
   ]
  },
  {
   "cell_type": "code",
   "execution_count": 16,
   "metadata": {},
   "outputs": [
    {
     "name": "stdout",
     "output_type": "stream",
     "text": [
      "Accuracy: 100.00%\n"
     ]
    }
   ],
   "source": [
    "# Check if the dataset is empty or not\n",
    "if X.size == 0 or y.size == 0:\n",
    "    print(\"No data was loaded. Please check the file paths and metadata.\")\n",
    "else:\n",
    "    # Split the data into training and test sets\n",
    "    X_train, X_test, y_train, y_test = train_test_split(X, y, test_size=0.2, random_state=42)\n",
    "    \n",
    "    # Train the classifier\n",
    "    clf = RandomForestClassifier(n_estimators=100, random_state=42)\n",
    "    clf.fit(X_train, y_train)\n",
    "    \n",
    "    # Evaluate the classifier\n",
    "    y_pred = clf.predict(X_test)\n",
    "    accuracy = accuracy_score(y_test, y_pred)\n",
    "    print(f\"Accuracy: {accuracy * 100:.2f}%\")\n"
   ]
  },
  {
   "cell_type": "code",
   "execution_count": 17,
   "metadata": {},
   "outputs": [
    {
     "ename": "NameError",
     "evalue": "name 'pickle' is not defined",
     "output_type": "error",
     "traceback": [
      "\u001b[1;31m---------------------------------------------------------------------------\u001b[0m",
      "\u001b[1;31mNameError\u001b[0m                                 Traceback (most recent call last)",
      "Cell \u001b[1;32mIn[17], line 3\u001b[0m\n\u001b[0;32m      1\u001b[0m \u001b[38;5;66;03m# Save the trained model\u001b[39;00m\n\u001b[0;32m      2\u001b[0m \u001b[38;5;28;01mwith\u001b[39;00m \u001b[38;5;28mopen\u001b[39m(\u001b[38;5;124m'\u001b[39m\u001b[38;5;124mseizure_model.pkl\u001b[39m\u001b[38;5;124m'\u001b[39m, \u001b[38;5;124m'\u001b[39m\u001b[38;5;124mwb\u001b[39m\u001b[38;5;124m'\u001b[39m) \u001b[38;5;28;01mas\u001b[39;00m model_file:\n\u001b[1;32m----> 3\u001b[0m     \u001b[43mpickle\u001b[49m\u001b[38;5;241m.\u001b[39mdump(model, model_file)\n",
      "\u001b[1;31mNameError\u001b[0m: name 'pickle' is not defined"
     ]
    }
   ],
   "source": [
    "# Save the trained model\n",
    "with open('seizure_model.pkl', 'wb') as model_file:\n",
    "    pickle.dump(model, model_file)"
   ]
  }
 ],
 "metadata": {
  "kernelspec": {
   "display_name": "Python 3",
   "language": "python",
   "name": "python3"
  },
  "language_info": {
   "codemirror_mode": {
    "name": "ipython",
    "version": 3
   },
   "file_extension": ".py",
   "mimetype": "text/x-python",
   "name": "python",
   "nbconvert_exporter": "python",
   "pygments_lexer": "ipython3",
   "version": "3.12.2"
  }
 },
 "nbformat": 4,
 "nbformat_minor": 2
}
